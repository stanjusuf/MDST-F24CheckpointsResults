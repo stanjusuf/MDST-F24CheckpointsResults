{
 "cells": [
  {
   "cell_type": "markdown",
   "metadata": {
    "colab_type": "text",
    "id": "0a8IYAJUshu1"
   },
   "source": [
    "# Checkpoint 0 "
   ]
  },
  {
   "cell_type": "markdown",
   "metadata": {},
   "source": [
    "These exercises are a mix of Python and Pandas practice. Most should be no more than a few lines of code! "
   ]
  },
  {
   "cell_type": "code",
   "execution_count": 6,
   "metadata": {
    "colab": {},
    "colab_type": "code",
    "id": "Jo6wuTgkshu1"
   },
   "outputs": [],
   "source": [
    "# here is a Python list:\n",
    "\n",
    "a = [1, 2, 3, 4, 5, 6]"
   ]
  },
  {
   "cell_type": "code",
   "execution_count": 7,
   "id": "779d96b1",
   "metadata": {},
   "outputs": [
    {
     "name": "stdout",
     "output_type": "stream",
     "text": [
      "[4, 5, 6]\n"
     ]
    }
   ],
   "source": [
    "# get a list containing the last 3 elements of a\n",
    "# Yes, you can just type out [4, 5, 6] but we really want to see you demonstrate you know how to use list slicing in Python\n",
    "last_three_elements = a[-3:]\n",
    "print(last_three_elements)"
   ]
  },
  {
   "cell_type": "code",
   "execution_count": null,
   "id": "b6a54def",
   "metadata": {},
   "outputs": [],
   "source": [
    "# create a list of numbers from 1 to 20\n",
    "numbers_from_1_to_20 = list(range(1, 21))"
   ]
  },
  {
   "cell_type": "code",
   "execution_count": null,
   "id": "487873ac",
   "metadata": {},
   "outputs": [],
   "source": [
    "# now get a list with only the even numbers between 1 and 100\n",
    "# you may or may not make use of the list you made in the last cell\n",
    "even_numbers_between_1_and_100 = list(range(2, 101, 2))"
   ]
  },
  {
   "cell_type": "code",
   "execution_count": null,
   "id": "3d4bb5dd",
   "metadata": {},
   "outputs": [],
   "source": [
    "# write a function that takes two numbers as arguments\n",
    "# and returns the first number divided by the second\n",
    "def divide_numbers(a, b):\n",
    "    if b == 0:\n",
    "        return \"Division by zero produces an error.\"\n",
    "    return a / b"
   ]
  },
  {
   "cell_type": "code",
   "execution_count": null,
   "id": "f55df04e",
   "metadata": {},
   "outputs": [],
   "source": [
    "# fizzbuzz\n",
    "# you will need to use both iteration and control flow \n",
    "# go through all numbers from 1 to 30 in order\n",
    "# if the number is a multiple of 3, print fizz\n",
    "# if the number is a multiple of 5, print buzz\n",
    "# if the number is a multiple of 3 and 5, print fizzbuzz and NOTHING ELSE\n",
    "# if the number is neither a multiple of 3 nor a multiple of 5, print the number\n",
    "def fizzbuzz():\n",
    "    for i in range(1, 31):\n",
    "        if i % 3 == 0 and i % 5 == 0:\n",
    "            print(\"fizzbuzz\")\n",
    "        elif i % 3 == 0:\n",
    "            print(\"fizz\")\n",
    "        elif i % 5 == 0:\n",
    "            print(\"buzz\")\n",
    "        else:\n",
    "            print(i)"
   ]
  },
  {
   "cell_type": "code",
   "execution_count": null,
   "id": "78aace0b",
   "metadata": {},
   "outputs": [],
   "source": [
    "# create a dictionary that reflects the following menu pricing (taken from Ahmo's)\n",
    "# Gyro: $9 \n",
    "# Burger: $9\n",
    "# Greek Salad: $8\n",
    "# Philly Steak: $10\n",
    "ahmo_menu_prices = {\n",
    "    \"Gyro\": 9,\n",
    "    \"Burger\": 9,\n",
    "    \"Greek Salad\": 8,\n",
    "    \"Philly Steak\": 10\n",
    "}"
   ]
  },
  {
   "cell_type": "code",
   "execution_count": 10,
   "metadata": {
    "colab": {},
    "colab_type": "code",
    "id": "WzCQ5HOJshvA"
   },
   "outputs": [],
   "source": [
    "# load in the \"starbucks.csv\" dataset\n",
    "# refer to how we read the cereal.csv dataset in the tutorial\n",
    "import pandas as pd\n",
    "df = pd.read_csv(\"../data/starbucks.csv\")"
   ]
  },
  {
   "cell_type": "code",
   "execution_count": 16,
   "id": "ac0f0c12",
   "metadata": {},
   "outputs": [],
   "source": [
    "# select all rows with more than and including 400 calories\n",
    "more_than_and_including_400_calories = df[df['calories'] >= 400]"
   ]
  },
  {
   "cell_type": "code",
   "execution_count": 17,
   "id": "ee8f8241",
   "metadata": {},
   "outputs": [],
   "source": [
    "# select all rows whose vitamin c content is higher than the iron content\n",
    "higher_vit_c_than_iron = df[df[\"vitamin c\"] > df[\"iron\"]]"
   ]
  },
  {
   "cell_type": "code",
   "execution_count": 21,
   "id": "d4de48bb",
   "metadata": {},
   "outputs": [
    {
     "name": "stdout",
     "output_type": "stream",
     "text": [
      "0      58.333333\n",
      "1      65.000000\n",
      "2      66.000000\n",
      "3      82.000000\n",
      "4       1.071429\n",
      "         ...    \n",
      "237     0.000000\n",
      "238     0.000000\n",
      "239     0.000000\n",
      "240     0.000000\n",
      "241     0.000000\n",
      "Name: caffeine_per_calories, Length: 242, dtype: float64\n"
     ]
    }
   ],
   "source": [
    "# create a new column containing the caffeine per calories of each drink\n",
    "df = df.assign(caffeine_per_calories=df['caffeine'] / df['calories'])"
   ]
  },
  {
   "cell_type": "code",
   "execution_count": 22,
   "metadata": {
    "colab": {},
    "colab_type": "code",
    "id": "rIoxaSxHshvB"
   },
   "outputs": [
    {
     "name": "stdout",
     "output_type": "stream",
     "text": [
      "193.87190082644628\n"
     ]
    }
   ],
   "source": [
    "# what is the average calorie across all items?\n",
    "average_calories = df['calories'].mean()"
   ]
  },
  {
   "cell_type": "code",
   "execution_count": 23,
   "metadata": {
    "colab": {},
    "colab_type": "code",
    "id": "ABX7i49FshvD"
   },
   "outputs": [
    {
     "name": "stdout",
     "output_type": "stream",
     "text": [
      "9\n"
     ]
    }
   ],
   "source": [
    "# how many different categories of beverages are there?\n",
    "number_of_beverage_categories = df['beverage_category'].nunique()"
   ]
  },
  {
   "cell_type": "code",
   "execution_count": 24,
   "metadata": {
    "colab": {},
    "colab_type": "code",
    "id": "P9QatZAzshvE"
   },
   "outputs": [
    {
     "name": "stdout",
     "output_type": "stream",
     "text": [
      "beverage_category\n",
      "classic espresso drinks             140.172414\n",
      "coffee                                4.250000\n",
      "frappuccino blended coffee          276.944444\n",
      "frappuccino blended crme            233.076923\n",
      "frappuccino light blended coffee    162.500000\n",
      "shaken iced beverages               114.444444\n",
      "signature espresso drinks           250.000000\n",
      "smoothies                           282.222222\n",
      "tazo tea drinks                     177.307692\n",
      "Name: calories, dtype: float64\n"
     ]
    }
   ],
   "source": [
    "# what is the average # calories for each beverage category?\n",
    "average_calories_in_beverage_category = df.groupby('beverage_category')['calories'].mean()"
   ]
  }
 ],
 "metadata": {
  "kernelspec": {
   "display_name": "Python 3.9.0 64-bit",
   "language": "python",
   "name": "python3"
  },
  "language_info": {
   "codemirror_mode": {
    "name": "ipython",
    "version": 3
   },
   "file_extension": ".py",
   "mimetype": "text/x-python",
   "name": "python",
   "nbconvert_exporter": "python",
   "pygments_lexer": "ipython3",
   "version": "3.12.4"
  },
  "vscode": {
   "interpreter": {
    "hash": "6cf8df3ff69f85f626faf55c10df6fe2cb9d1236b4dc73844ee4dc01369c2c99"
   }
  }
 },
 "nbformat": 4,
 "nbformat_minor": 5
}
